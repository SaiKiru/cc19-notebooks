{
 "cells": [
  {
   "cell_type": "markdown",
   "metadata": {},
   "source": [
    "# Final Exam\n",
    "Submitted by: Anthony Aromin"
   ]
  },
  {
   "cell_type": "markdown",
   "metadata": {},
   "source": [
    "## Initial Setup"
   ]
  },
  {
   "cell_type": "code",
   "execution_count": 382,
   "metadata": {},
   "outputs": [],
   "source": [
    "import numpy as np\n",
    "import pandas as pd\n",
    "import matplotlib.pyplot as plt\n",
    "%matplotlib inline"
   ]
  },
  {
   "cell_type": "code",
   "execution_count": 383,
   "metadata": {},
   "outputs": [
    {
     "data": {
      "text/html": [
       "<div>\n",
       "<style scoped>\n",
       "    .dataframe tbody tr th:only-of-type {\n",
       "        vertical-align: middle;\n",
       "    }\n",
       "\n",
       "    .dataframe tbody tr th {\n",
       "        vertical-align: top;\n",
       "    }\n",
       "\n",
       "    .dataframe thead th {\n",
       "        text-align: right;\n",
       "    }\n",
       "</style>\n",
       "<table border=\"1\" class=\"dataframe\">\n",
       "  <thead>\n",
       "    <tr style=\"text-align: right;\">\n",
       "      <th></th>\n",
       "      <th>Position</th>\n",
       "      <th>Annual Salary in Dollar</th>\n",
       "      <th>Date Hired</th>\n",
       "    </tr>\n",
       "  </thead>\n",
       "  <tbody>\n",
       "    <tr>\n",
       "      <th>0</th>\n",
       "      <td>City Administrator</td>\n",
       "      <td>295000.0</td>\n",
       "      <td>2004.0</td>\n",
       "    </tr>\n",
       "    <tr>\n",
       "      <th>1</th>\n",
       "      <td>President</td>\n",
       "      <td>295000.0</td>\n",
       "      <td>2008.0</td>\n",
       "    </tr>\n",
       "    <tr>\n",
       "      <th>2</th>\n",
       "      <td>Superintendent Of Schools</td>\n",
       "      <td>275000.0</td>\n",
       "      <td>2007.0</td>\n",
       "    </tr>\n",
       "    <tr>\n",
       "      <th>3</th>\n",
       "      <td>Chief</td>\n",
       "      <td>230743.0</td>\n",
       "      <td>1990.0</td>\n",
       "    </tr>\n",
       "    <tr>\n",
       "      <th>4</th>\n",
       "      <td>Medical Officer Psych</td>\n",
       "      <td>206000.0</td>\n",
       "      <td>2008.0</td>\n",
       "    </tr>\n",
       "  </tbody>\n",
       "</table>\n",
       "</div>"
      ],
      "text/plain": [
       "                    Position  Annual Salary in Dollar  Date Hired\n",
       "0         City Administrator                 295000.0      2004.0\n",
       "1                  President                 295000.0      2008.0\n",
       "2  Superintendent Of Schools                 275000.0      2007.0\n",
       "3                      Chief                 230743.0      1990.0\n",
       "4      Medical Officer Psych                 206000.0      2008.0"
      ]
     },
     "execution_count": 383,
     "metadata": {},
     "output_type": "execute_result"
    }
   ],
   "source": [
    "df = pd.read_csv('salary_dataset.csv')\n",
    "df.head(5)"
   ]
  },
  {
   "cell_type": "code",
   "execution_count": 384,
   "metadata": {},
   "outputs": [
    {
     "data": {
      "text/html": [
       "<div>\n",
       "<style scoped>\n",
       "    .dataframe tbody tr th:only-of-type {\n",
       "        vertical-align: middle;\n",
       "    }\n",
       "\n",
       "    .dataframe tbody tr th {\n",
       "        vertical-align: top;\n",
       "    }\n",
       "\n",
       "    .dataframe thead th {\n",
       "        text-align: right;\n",
       "    }\n",
       "</style>\n",
       "<table border=\"1\" class=\"dataframe\">\n",
       "  <thead>\n",
       "    <tr style=\"text-align: right;\">\n",
       "      <th></th>\n",
       "      <th>position</th>\n",
       "      <th>annual_salary_usd</th>\n",
       "      <th>date_hired</th>\n",
       "    </tr>\n",
       "  </thead>\n",
       "  <tbody>\n",
       "    <tr>\n",
       "      <th>0</th>\n",
       "      <td>City Administrator</td>\n",
       "      <td>295000.0</td>\n",
       "      <td>2004.0</td>\n",
       "    </tr>\n",
       "    <tr>\n",
       "      <th>1</th>\n",
       "      <td>President</td>\n",
       "      <td>295000.0</td>\n",
       "      <td>2008.0</td>\n",
       "    </tr>\n",
       "    <tr>\n",
       "      <th>2</th>\n",
       "      <td>Superintendent Of Schools</td>\n",
       "      <td>275000.0</td>\n",
       "      <td>2007.0</td>\n",
       "    </tr>\n",
       "    <tr>\n",
       "      <th>3</th>\n",
       "      <td>Chief</td>\n",
       "      <td>230743.0</td>\n",
       "      <td>1990.0</td>\n",
       "    </tr>\n",
       "    <tr>\n",
       "      <th>4</th>\n",
       "      <td>Medical Officer Psych</td>\n",
       "      <td>206000.0</td>\n",
       "      <td>2008.0</td>\n",
       "    </tr>\n",
       "  </tbody>\n",
       "</table>\n",
       "</div>"
      ],
      "text/plain": [
       "                    position  annual_salary_usd  date_hired\n",
       "0         City Administrator           295000.0      2004.0\n",
       "1                  President           295000.0      2008.0\n",
       "2  Superintendent Of Schools           275000.0      2007.0\n",
       "3                      Chief           230743.0      1990.0\n",
       "4      Medical Officer Psych           206000.0      2008.0"
      ]
     },
     "execution_count": 384,
     "metadata": {},
     "output_type": "execute_result"
    }
   ],
   "source": [
    "df.columns = [\n",
    "    'position',\n",
    "    'annual_salary_usd',\n",
    "    'date_hired'\n",
    "]\n",
    "df.head(5)"
   ]
  },
  {
   "cell_type": "code",
   "execution_count": 385,
   "metadata": {},
   "outputs": [
    {
     "data": {
      "text/html": [
       "<div>\n",
       "<style scoped>\n",
       "    .dataframe tbody tr th:only-of-type {\n",
       "        vertical-align: middle;\n",
       "    }\n",
       "\n",
       "    .dataframe tbody tr th {\n",
       "        vertical-align: top;\n",
       "    }\n",
       "\n",
       "    .dataframe thead th {\n",
       "        text-align: right;\n",
       "    }\n",
       "</style>\n",
       "<table border=\"1\" class=\"dataframe\">\n",
       "  <thead>\n",
       "    <tr style=\"text-align: right;\">\n",
       "      <th></th>\n",
       "      <th>annual_salary_usd</th>\n",
       "      <th>date_hired</th>\n",
       "    </tr>\n",
       "  </thead>\n",
       "  <tbody>\n",
       "    <tr>\n",
       "      <th>count</th>\n",
       "      <td>11436.000000</td>\n",
       "      <td>11499.000000</td>\n",
       "    </tr>\n",
       "    <tr>\n",
       "      <th>mean</th>\n",
       "      <td>88115.911857</td>\n",
       "      <td>1996.429777</td>\n",
       "    </tr>\n",
       "    <tr>\n",
       "      <th>std</th>\n",
       "      <td>25166.209026</td>\n",
       "      <td>10.095155</td>\n",
       "    </tr>\n",
       "    <tr>\n",
       "      <th>min</th>\n",
       "      <td>7.000000</td>\n",
       "      <td>1955.000000</td>\n",
       "    </tr>\n",
       "    <tr>\n",
       "      <th>25%</th>\n",
       "      <td>78743.000000</td>\n",
       "      <td>1988.000000</td>\n",
       "    </tr>\n",
       "    <tr>\n",
       "      <th>50%</th>\n",
       "      <td>85606.000000</td>\n",
       "      <td>1998.000000</td>\n",
       "    </tr>\n",
       "    <tr>\n",
       "      <th>75%</th>\n",
       "      <td>97316.250000</td>\n",
       "      <td>2006.000000</td>\n",
       "    </tr>\n",
       "    <tr>\n",
       "      <th>max</th>\n",
       "      <td>295000.000000</td>\n",
       "      <td>2011.000000</td>\n",
       "    </tr>\n",
       "  </tbody>\n",
       "</table>\n",
       "</div>"
      ],
      "text/plain": [
       "       annual_salary_usd    date_hired\n",
       "count       11436.000000  11499.000000\n",
       "mean        88115.911857   1996.429777\n",
       "std         25166.209026     10.095155\n",
       "min             7.000000   1955.000000\n",
       "25%         78743.000000   1988.000000\n",
       "50%         85606.000000   1998.000000\n",
       "75%         97316.250000   2006.000000\n",
       "max        295000.000000   2011.000000"
      ]
     },
     "execution_count": 385,
     "metadata": {},
     "output_type": "execute_result"
    }
   ],
   "source": [
    "df.describe()"
   ]
  },
  {
   "cell_type": "markdown",
   "metadata": {},
   "source": [
    "## Data Cleaning"
   ]
  },
  {
   "cell_type": "code",
   "execution_count": 386,
   "metadata": {},
   "outputs": [
    {
     "data": {
      "text/plain": [
       "position              0\n",
       "annual_salary_usd    64\n",
       "date_hired            0\n",
       "dtype: int64"
      ]
     },
     "execution_count": 386,
     "metadata": {},
     "output_type": "execute_result"
    }
   ],
   "source": [
    "df.dropna(subset=[\n",
    "    'position',\n",
    "    'date_hired'\n",
    "],inplace=True)\n",
    "\n",
    "df.isnull().sum()"
   ]
  },
  {
   "cell_type": "code",
   "execution_count": 387,
   "metadata": {},
   "outputs": [
    {
     "data": {
      "text/html": [
       "<div>\n",
       "<style scoped>\n",
       "    .dataframe tbody tr th:only-of-type {\n",
       "        vertical-align: middle;\n",
       "    }\n",
       "\n",
       "    .dataframe tbody tr th {\n",
       "        vertical-align: top;\n",
       "    }\n",
       "\n",
       "    .dataframe thead th {\n",
       "        text-align: right;\n",
       "    }\n",
       "</style>\n",
       "<table border=\"1\" class=\"dataframe\">\n",
       "  <thead>\n",
       "    <tr style=\"text-align: right;\">\n",
       "      <th></th>\n",
       "      <th>position</th>\n",
       "      <th>annual_salary_usd</th>\n",
       "      <th>date_hired</th>\n",
       "    </tr>\n",
       "  </thead>\n",
       "  <tbody>\n",
       "    <tr>\n",
       "      <th>0</th>\n",
       "      <td>City Administrator</td>\n",
       "      <td>295000.0</td>\n",
       "      <td>2004</td>\n",
       "    </tr>\n",
       "    <tr>\n",
       "      <th>1</th>\n",
       "      <td>President</td>\n",
       "      <td>295000.0</td>\n",
       "      <td>2008</td>\n",
       "    </tr>\n",
       "    <tr>\n",
       "      <th>2</th>\n",
       "      <td>Superintendent Of Schools</td>\n",
       "      <td>275000.0</td>\n",
       "      <td>2007</td>\n",
       "    </tr>\n",
       "    <tr>\n",
       "      <th>3</th>\n",
       "      <td>Chief</td>\n",
       "      <td>230743.0</td>\n",
       "      <td>1990</td>\n",
       "    </tr>\n",
       "    <tr>\n",
       "      <th>4</th>\n",
       "      <td>Medical Officer Psych</td>\n",
       "      <td>206000.0</td>\n",
       "      <td>2008</td>\n",
       "    </tr>\n",
       "  </tbody>\n",
       "</table>\n",
       "</div>"
      ],
      "text/plain": [
       "                    position  annual_salary_usd  date_hired\n",
       "0         City Administrator           295000.0        2004\n",
       "1                  President           295000.0        2008\n",
       "2  Superintendent Of Schools           275000.0        2007\n",
       "3                      Chief           230743.0        1990\n",
       "4      Medical Officer Psych           206000.0        2008"
      ]
     },
     "execution_count": 387,
     "metadata": {},
     "output_type": "execute_result"
    }
   ],
   "source": [
    "df['date_hired'] = df['date_hired'].astype(int)\n",
    "\n",
    "df.head(5)"
   ]
  },
  {
   "cell_type": "code",
   "execution_count": 388,
   "metadata": {},
   "outputs": [
    {
     "name": "stdout",
     "output_type": "stream",
     "text": [
      "position             0\n",
      "annual_salary_usd    0\n",
      "date_hired           0\n",
      "dtype: int64\n",
      "--------------------------------------------------\n",
      "       annual_salary_usd    date_hired\n",
      "count       11056.000000  11056.000000\n",
      "mean        91725.904191   1996.245749\n",
      "std         18547.502438     10.019950\n",
      "min         71796.000000   1955.000000\n",
      "25%         78743.000000   1988.000000\n",
      "50%         86486.000000   1998.000000\n",
      "75%         98425.000000   2005.000000\n",
      "max        295000.000000   2011.000000\n"
     ]
    }
   ],
   "source": [
    "temp_df = df\n",
    "temp_grouped_df = df.groupby('position')['annual_salary_usd']\n",
    "\n",
    "def fill_annual_salary_usd(x):\n",
    "    if (np.isnan(x['annual_salary_usd']) or\n",
    "        x['annual_salary_usd'] < 1_000.00):\n",
    "        mean_salary = temp_grouped_df.get_group(x['position']).mean()\n",
    "\n",
    "        # if mean salary of position is still NaN or way less than minimum wage\n",
    "        # return a null value\n",
    "        if (np.isnan(mean_salary) or\n",
    "            mean_salary < 1_000.00):\n",
    "            return\n",
    "\n",
    "        return mean_salary\n",
    "    else:\n",
    "        return x['annual_salary_usd']\n",
    "\n",
    "df['annual_salary_usd'] = temp_df.apply(fill_annual_salary_usd, axis=1)\n",
    "df.dropna(subset='annual_salary_usd', inplace=True)\n",
    "\n",
    "print(df.isnull().sum())\n",
    "print('-' * 50)\n",
    "print(df.describe())"
   ]
  },
  {
   "cell_type": "markdown",
   "metadata": {},
   "source": [
    "## Additional Columns"
   ]
  },
  {
   "cell_type": "code",
   "execution_count": 389,
   "metadata": {},
   "outputs": [
    {
     "data": {
      "text/html": [
       "<div>\n",
       "<style scoped>\n",
       "    .dataframe tbody tr th:only-of-type {\n",
       "        vertical-align: middle;\n",
       "    }\n",
       "\n",
       "    .dataframe tbody tr th {\n",
       "        vertical-align: top;\n",
       "    }\n",
       "\n",
       "    .dataframe thead th {\n",
       "        text-align: right;\n",
       "    }\n",
       "</style>\n",
       "<table border=\"1\" class=\"dataframe\">\n",
       "  <thead>\n",
       "    <tr style=\"text-align: right;\">\n",
       "      <th></th>\n",
       "      <th>position</th>\n",
       "      <th>annual_salary_usd</th>\n",
       "      <th>date_hired</th>\n",
       "      <th>annual_salary_php</th>\n",
       "    </tr>\n",
       "  </thead>\n",
       "  <tbody>\n",
       "    <tr>\n",
       "      <th>0</th>\n",
       "      <td>City Administrator</td>\n",
       "      <td>295000.0</td>\n",
       "      <td>2004</td>\n",
       "      <td>14750000.0</td>\n",
       "    </tr>\n",
       "    <tr>\n",
       "      <th>1</th>\n",
       "      <td>President</td>\n",
       "      <td>295000.0</td>\n",
       "      <td>2008</td>\n",
       "      <td>14750000.0</td>\n",
       "    </tr>\n",
       "    <tr>\n",
       "      <th>2</th>\n",
       "      <td>Superintendent Of Schools</td>\n",
       "      <td>275000.0</td>\n",
       "      <td>2007</td>\n",
       "      <td>13750000.0</td>\n",
       "    </tr>\n",
       "    <tr>\n",
       "      <th>3</th>\n",
       "      <td>Chief</td>\n",
       "      <td>230743.0</td>\n",
       "      <td>1990</td>\n",
       "      <td>11537150.0</td>\n",
       "    </tr>\n",
       "    <tr>\n",
       "      <th>4</th>\n",
       "      <td>Medical Officer Psych</td>\n",
       "      <td>206000.0</td>\n",
       "      <td>2008</td>\n",
       "      <td>10300000.0</td>\n",
       "    </tr>\n",
       "  </tbody>\n",
       "</table>\n",
       "</div>"
      ],
      "text/plain": [
       "                    position  annual_salary_usd  date_hired  annual_salary_php\n",
       "0         City Administrator           295000.0        2004         14750000.0\n",
       "1                  President           295000.0        2008         14750000.0\n",
       "2  Superintendent Of Schools           275000.0        2007         13750000.0\n",
       "3                      Chief           230743.0        1990         11537150.0\n",
       "4      Medical Officer Psych           206000.0        2008         10300000.0"
      ]
     },
     "execution_count": 389,
     "metadata": {},
     "output_type": "execute_result"
    }
   ],
   "source": [
    "df['annual_salary_php'] = df.apply(\n",
    "    lambda x: x['annual_salary_usd'] * 50.0, axis=1\n",
    ")\n",
    "\n",
    "df.head(5)"
   ]
  },
  {
   "cell_type": "code",
   "execution_count": 390,
   "metadata": {},
   "outputs": [
    {
     "data": {
      "text/html": [
       "<div>\n",
       "<style scoped>\n",
       "    .dataframe tbody tr th:only-of-type {\n",
       "        vertical-align: middle;\n",
       "    }\n",
       "\n",
       "    .dataframe tbody tr th {\n",
       "        vertical-align: top;\n",
       "    }\n",
       "\n",
       "    .dataframe thead th {\n",
       "        text-align: right;\n",
       "    }\n",
       "</style>\n",
       "<table border=\"1\" class=\"dataframe\">\n",
       "  <thead>\n",
       "    <tr style=\"text-align: right;\">\n",
       "      <th></th>\n",
       "      <th>position</th>\n",
       "      <th>annual_salary_usd</th>\n",
       "      <th>date_hired</th>\n",
       "      <th>annual_salary_php</th>\n",
       "      <th>monthly_salary_php</th>\n",
       "    </tr>\n",
       "  </thead>\n",
       "  <tbody>\n",
       "    <tr>\n",
       "      <th>0</th>\n",
       "      <td>City Administrator</td>\n",
       "      <td>295000.0</td>\n",
       "      <td>2004</td>\n",
       "      <td>14750000.0</td>\n",
       "      <td>1229166.67</td>\n",
       "    </tr>\n",
       "    <tr>\n",
       "      <th>1</th>\n",
       "      <td>President</td>\n",
       "      <td>295000.0</td>\n",
       "      <td>2008</td>\n",
       "      <td>14750000.0</td>\n",
       "      <td>1229166.67</td>\n",
       "    </tr>\n",
       "    <tr>\n",
       "      <th>2</th>\n",
       "      <td>Superintendent Of Schools</td>\n",
       "      <td>275000.0</td>\n",
       "      <td>2007</td>\n",
       "      <td>13750000.0</td>\n",
       "      <td>1145833.33</td>\n",
       "    </tr>\n",
       "    <tr>\n",
       "      <th>3</th>\n",
       "      <td>Chief</td>\n",
       "      <td>230743.0</td>\n",
       "      <td>1990</td>\n",
       "      <td>11537150.0</td>\n",
       "      <td>961429.17</td>\n",
       "    </tr>\n",
       "    <tr>\n",
       "      <th>4</th>\n",
       "      <td>Medical Officer Psych</td>\n",
       "      <td>206000.0</td>\n",
       "      <td>2008</td>\n",
       "      <td>10300000.0</td>\n",
       "      <td>858333.33</td>\n",
       "    </tr>\n",
       "  </tbody>\n",
       "</table>\n",
       "</div>"
      ],
      "text/plain": [
       "                    position  annual_salary_usd  date_hired  \\\n",
       "0         City Administrator           295000.0        2004   \n",
       "1                  President           295000.0        2008   \n",
       "2  Superintendent Of Schools           275000.0        2007   \n",
       "3                      Chief           230743.0        1990   \n",
       "4      Medical Officer Psych           206000.0        2008   \n",
       "\n",
       "   annual_salary_php  monthly_salary_php  \n",
       "0         14750000.0          1229166.67  \n",
       "1         14750000.0          1229166.67  \n",
       "2         13750000.0          1145833.33  \n",
       "3         11537150.0           961429.17  \n",
       "4         10300000.0           858333.33  "
      ]
     },
     "execution_count": 390,
     "metadata": {},
     "output_type": "execute_result"
    }
   ],
   "source": [
    "df['monthly_salary_php'] = df.apply(\n",
    "    lambda x: np.round(x['annual_salary_php'] / 12.0, 2), axis=1\n",
    ")\n",
    "\n",
    "df.head(5)"
   ]
  },
  {
   "cell_type": "code",
   "execution_count": 391,
   "metadata": {},
   "outputs": [
    {
     "data": {
      "text/html": [
       "<div>\n",
       "<style scoped>\n",
       "    .dataframe tbody tr th:only-of-type {\n",
       "        vertical-align: middle;\n",
       "    }\n",
       "\n",
       "    .dataframe tbody tr th {\n",
       "        vertical-align: top;\n",
       "    }\n",
       "\n",
       "    .dataframe thead th {\n",
       "        text-align: right;\n",
       "    }\n",
       "</style>\n",
       "<table border=\"1\" class=\"dataframe\">\n",
       "  <thead>\n",
       "    <tr style=\"text-align: right;\">\n",
       "      <th></th>\n",
       "      <th>position</th>\n",
       "      <th>annual_salary_usd</th>\n",
       "      <th>date_hired</th>\n",
       "      <th>annual_salary_php</th>\n",
       "      <th>monthly_salary_php</th>\n",
       "      <th>years_exp</th>\n",
       "    </tr>\n",
       "  </thead>\n",
       "  <tbody>\n",
       "    <tr>\n",
       "      <th>0</th>\n",
       "      <td>City Administrator</td>\n",
       "      <td>295000.0</td>\n",
       "      <td>2004</td>\n",
       "      <td>14750000.0</td>\n",
       "      <td>1229166.67</td>\n",
       "      <td>11</td>\n",
       "    </tr>\n",
       "    <tr>\n",
       "      <th>1</th>\n",
       "      <td>President</td>\n",
       "      <td>295000.0</td>\n",
       "      <td>2008</td>\n",
       "      <td>14750000.0</td>\n",
       "      <td>1229166.67</td>\n",
       "      <td>7</td>\n",
       "    </tr>\n",
       "    <tr>\n",
       "      <th>2</th>\n",
       "      <td>Superintendent Of Schools</td>\n",
       "      <td>275000.0</td>\n",
       "      <td>2007</td>\n",
       "      <td>13750000.0</td>\n",
       "      <td>1145833.33</td>\n",
       "      <td>8</td>\n",
       "    </tr>\n",
       "    <tr>\n",
       "      <th>3</th>\n",
       "      <td>Chief</td>\n",
       "      <td>230743.0</td>\n",
       "      <td>1990</td>\n",
       "      <td>11537150.0</td>\n",
       "      <td>961429.17</td>\n",
       "      <td>25</td>\n",
       "    </tr>\n",
       "    <tr>\n",
       "      <th>4</th>\n",
       "      <td>Medical Officer Psych</td>\n",
       "      <td>206000.0</td>\n",
       "      <td>2008</td>\n",
       "      <td>10300000.0</td>\n",
       "      <td>858333.33</td>\n",
       "      <td>7</td>\n",
       "    </tr>\n",
       "  </tbody>\n",
       "</table>\n",
       "</div>"
      ],
      "text/plain": [
       "                    position  annual_salary_usd  date_hired  \\\n",
       "0         City Administrator           295000.0        2004   \n",
       "1                  President           295000.0        2008   \n",
       "2  Superintendent Of Schools           275000.0        2007   \n",
       "3                      Chief           230743.0        1990   \n",
       "4      Medical Officer Psych           206000.0        2008   \n",
       "\n",
       "   annual_salary_php  monthly_salary_php  years_exp  \n",
       "0         14750000.0          1229166.67         11  \n",
       "1         14750000.0          1229166.67          7  \n",
       "2         13750000.0          1145833.33          8  \n",
       "3         11537150.0           961429.17         25  \n",
       "4         10300000.0           858333.33          7  "
      ]
     },
     "execution_count": 391,
     "metadata": {},
     "output_type": "execute_result"
    }
   ],
   "source": [
    "df['years_exp'] = df.apply(\n",
    "    lambda x: 2015 - x['date_hired'], axis = 1\n",
    ")\n",
    "\n",
    "df.head(5)"
   ]
  },
  {
   "cell_type": "markdown",
   "metadata": {},
   "source": [
    "## Exporting the Dataset"
   ]
  },
  {
   "cell_type": "code",
   "execution_count": 392,
   "metadata": {},
   "outputs": [
    {
     "data": {
      "text/plain": [
       "count    1575.000000\n",
       "mean        7.019683\n",
       "std        56.894709\n",
       "min         1.000000\n",
       "25%         1.000000\n",
       "50%         1.000000\n",
       "75%         2.000000\n",
       "max      1874.000000\n",
       "Name: years_exp, dtype: float64"
      ]
     },
     "execution_count": 392,
     "metadata": {},
     "output_type": "execute_result"
    }
   ],
   "source": [
    "temp_df = df.groupby('position')\n",
    "\n",
    "temp_df['years_exp'].count().describe()"
   ]
  },
  {
   "cell_type": "code",
   "execution_count": 393,
   "metadata": {},
   "outputs": [
    {
     "data": {
      "text/plain": [
       "count     118.00000\n",
       "mean       73.29661\n",
       "std       196.80505\n",
       "min        10.00000\n",
       "25%        14.00000\n",
       "50%        24.50000\n",
       "75%        52.75000\n",
       "max      1874.00000\n",
       "Name: years_exp, dtype: float64"
      ]
     },
     "execution_count": 393,
     "metadata": {},
     "output_type": "execute_result"
    }
   ],
   "source": [
    "out_df = temp_df.filter(lambda x: len(x) >= 10)\n",
    "\n",
    "out_df.groupby('position')['years_exp'].count().describe()"
   ]
  },
  {
   "cell_type": "code",
   "execution_count": 394,
   "metadata": {},
   "outputs": [],
   "source": [
    "out_df.to_csv('salary_dataset_cleaned.csv')"
   ]
  },
  {
   "cell_type": "markdown",
   "metadata": {},
   "source": [
    "##  \n",
    "---"
   ]
  },
  {
   "cell_type": "markdown",
   "metadata": {},
   "source": [
    "## Reimporting the Dataset"
   ]
  },
  {
   "cell_type": "code",
   "execution_count": 395,
   "metadata": {},
   "outputs": [
    {
     "data": {
      "text/html": [
       "<div>\n",
       "<style scoped>\n",
       "    .dataframe tbody tr th:only-of-type {\n",
       "        vertical-align: middle;\n",
       "    }\n",
       "\n",
       "    .dataframe tbody tr th {\n",
       "        vertical-align: top;\n",
       "    }\n",
       "\n",
       "    .dataframe thead th {\n",
       "        text-align: right;\n",
       "    }\n",
       "</style>\n",
       "<table border=\"1\" class=\"dataframe\">\n",
       "  <thead>\n",
       "    <tr style=\"text-align: right;\">\n",
       "      <th></th>\n",
       "      <th>Unnamed: 0</th>\n",
       "      <th>position</th>\n",
       "      <th>annual_salary_usd</th>\n",
       "      <th>date_hired</th>\n",
       "      <th>annual_salary_php</th>\n",
       "      <th>monthly_salary_php</th>\n",
       "      <th>years_exp</th>\n",
       "    </tr>\n",
       "  </thead>\n",
       "  <tbody>\n",
       "    <tr>\n",
       "      <th>0</th>\n",
       "      <td>9</td>\n",
       "      <td>Workers Compensation Recipient</td>\n",
       "      <td>197808.0</td>\n",
       "      <td>1984</td>\n",
       "      <td>9890400.0</td>\n",
       "      <td>824200.00</td>\n",
       "      <td>31</td>\n",
       "    </tr>\n",
       "    <tr>\n",
       "      <th>1</th>\n",
       "      <td>12</td>\n",
       "      <td>Chief Of Staff</td>\n",
       "      <td>193125.0</td>\n",
       "      <td>2011</td>\n",
       "      <td>9656250.0</td>\n",
       "      <td>804687.50</td>\n",
       "      <td>4</td>\n",
       "    </tr>\n",
       "    <tr>\n",
       "      <th>2</th>\n",
       "      <td>13</td>\n",
       "      <td>Executive Director</td>\n",
       "      <td>193125.0</td>\n",
       "      <td>2007</td>\n",
       "      <td>9656250.0</td>\n",
       "      <td>804687.50</td>\n",
       "      <td>8</td>\n",
       "    </tr>\n",
       "    <tr>\n",
       "      <th>3</th>\n",
       "      <td>16</td>\n",
       "      <td>Executive Director</td>\n",
       "      <td>188692.0</td>\n",
       "      <td>2000</td>\n",
       "      <td>9434600.0</td>\n",
       "      <td>786216.67</td>\n",
       "      <td>15</td>\n",
       "    </tr>\n",
       "    <tr>\n",
       "      <th>4</th>\n",
       "      <td>17</td>\n",
       "      <td>Executive Director</td>\n",
       "      <td>188044.0</td>\n",
       "      <td>2006</td>\n",
       "      <td>9402200.0</td>\n",
       "      <td>783516.67</td>\n",
       "      <td>9</td>\n",
       "    </tr>\n",
       "  </tbody>\n",
       "</table>\n",
       "</div>"
      ],
      "text/plain": [
       "   Unnamed: 0                        position  annual_salary_usd  date_hired  \\\n",
       "0           9  Workers Compensation Recipient           197808.0        1984   \n",
       "1          12                  Chief Of Staff           193125.0        2011   \n",
       "2          13              Executive Director           193125.0        2007   \n",
       "3          16              Executive Director           188692.0        2000   \n",
       "4          17              Executive Director           188044.0        2006   \n",
       "\n",
       "   annual_salary_php  monthly_salary_php  years_exp  \n",
       "0          9890400.0           824200.00         31  \n",
       "1          9656250.0           804687.50          4  \n",
       "2          9656250.0           804687.50          8  \n",
       "3          9434600.0           786216.67         15  \n",
       "4          9402200.0           783516.67          9  "
      ]
     },
     "execution_count": 395,
     "metadata": {},
     "output_type": "execute_result"
    }
   ],
   "source": [
    "exp_df = pd.read_csv('salary_dataset_cleaned.csv')\n",
    "exp_df.head(5)"
   ]
  },
  {
   "cell_type": "code",
   "execution_count": 396,
   "metadata": {},
   "outputs": [
    {
     "data": {
      "text/html": [
       "<div>\n",
       "<style scoped>\n",
       "    .dataframe tbody tr th:only-of-type {\n",
       "        vertical-align: middle;\n",
       "    }\n",
       "\n",
       "    .dataframe tbody tr th {\n",
       "        vertical-align: top;\n",
       "    }\n",
       "\n",
       "    .dataframe thead th {\n",
       "        text-align: right;\n",
       "    }\n",
       "</style>\n",
       "<table border=\"1\" class=\"dataframe\">\n",
       "  <thead>\n",
       "    <tr style=\"text-align: right;\">\n",
       "      <th></th>\n",
       "      <th>position</th>\n",
       "      <th>monthly_salary_php</th>\n",
       "      <th>years_exp</th>\n",
       "    </tr>\n",
       "  </thead>\n",
       "  <tbody>\n",
       "    <tr>\n",
       "      <th>0</th>\n",
       "      <td>Workers Compensation Recipient</td>\n",
       "      <td>824200.00</td>\n",
       "      <td>31</td>\n",
       "    </tr>\n",
       "    <tr>\n",
       "      <th>1</th>\n",
       "      <td>Chief Of Staff</td>\n",
       "      <td>804687.50</td>\n",
       "      <td>4</td>\n",
       "    </tr>\n",
       "    <tr>\n",
       "      <th>2</th>\n",
       "      <td>Executive Director</td>\n",
       "      <td>804687.50</td>\n",
       "      <td>8</td>\n",
       "    </tr>\n",
       "    <tr>\n",
       "      <th>3</th>\n",
       "      <td>Executive Director</td>\n",
       "      <td>786216.67</td>\n",
       "      <td>15</td>\n",
       "    </tr>\n",
       "    <tr>\n",
       "      <th>4</th>\n",
       "      <td>Executive Director</td>\n",
       "      <td>783516.67</td>\n",
       "      <td>9</td>\n",
       "    </tr>\n",
       "  </tbody>\n",
       "</table>\n",
       "</div>"
      ],
      "text/plain": [
       "                         position  monthly_salary_php  years_exp\n",
       "0  Workers Compensation Recipient           824200.00         31\n",
       "1                  Chief Of Staff           804687.50          4\n",
       "2              Executive Director           804687.50          8\n",
       "3              Executive Director           786216.67         15\n",
       "4              Executive Director           783516.67          9"
      ]
     },
     "execution_count": 396,
     "metadata": {},
     "output_type": "execute_result"
    }
   ],
   "source": [
    "exp_df.drop([\n",
    "    'Unnamed: 0',\n",
    "    'annual_salary_usd',\n",
    "    'date_hired',\n",
    "    'annual_salary_php'\n",
    "], axis=1, inplace=True)\n",
    "\n",
    "exp_df.head(5)"
   ]
  },
  {
   "cell_type": "markdown",
   "metadata": {},
   "source": [
    "## Training"
   ]
  },
  {
   "cell_type": "code",
   "execution_count": 397,
   "metadata": {},
   "outputs": [],
   "source": [
    "x = exp_df.drop('monthly_salary_php', axis=1)\n",
    "y = exp_df['monthly_salary_php']\n",
    "\n",
    "x = pd.get_dummies(x, drop_first=True)"
   ]
  },
  {
   "cell_type": "code",
   "execution_count": 398,
   "metadata": {},
   "outputs": [],
   "source": [
    "from sklearn.model_selection import train_test_split\n",
    "\n",
    "x_train, x_test, y_train, y_test = train_test_split(x, y, test_size=0.2)"
   ]
  },
  {
   "cell_type": "code",
   "execution_count": 399,
   "metadata": {},
   "outputs": [
    {
     "data": {
      "text/plain": [
       "LinearRegression()"
      ]
     },
     "execution_count": 399,
     "metadata": {},
     "output_type": "execute_result"
    }
   ],
   "source": [
    "from sklearn.linear_model import LinearRegression\n",
    "\n",
    "model = LinearRegression()\n",
    "model.fit(x_train, y_train)"
   ]
  },
  {
   "cell_type": "markdown",
   "metadata": {},
   "source": [
    "## Testing"
   ]
  },
  {
   "cell_type": "code",
   "execution_count": 400,
   "metadata": {},
   "outputs": [],
   "source": [
    "y_predict = model.predict(x_test)"
   ]
  },
  {
   "cell_type": "code",
   "execution_count": 401,
   "metadata": {},
   "outputs": [
    {
     "name": "stdout",
     "output_type": "stream",
     "text": [
      "RMSE: ₱41702.94\n",
      "R2: 0.62\n"
     ]
    }
   ],
   "source": [
    "from sklearn.metrics import mean_squared_error, r2_score\n",
    "\n",
    "rmse = mean_squared_error(y_test, y_predict, squared=False)\n",
    "r2 = r2_score(y_test, y_predict)\n",
    "\n",
    "print(f'RMSE: ₱{rmse:.2f}')\n",
    "print(f'R2: {r2:.2f}')"
   ]
  },
  {
   "cell_type": "code",
   "execution_count": 402,
   "metadata": {},
   "outputs": [
    {
     "data": {
      "text/plain": [
       "[<matplotlib.lines.Line2D at 0x7f4b3cb57070>]"
      ]
     },
     "execution_count": 402,
     "metadata": {},
     "output_type": "execute_result"
    },
    {
     "data": {
      "image/png": "[encoded data removed]",
      "text/plain": [
       "<Figure size 504x504 with 1 Axes>"
      ]
     },
     "metadata": {
      "needs_background": "light"
     },
     "output_type": "display_data"
    }
   ],
   "source": [
    "plt.figure(figsize=(7, 7))\n",
    "plt.title('Sample')\n",
    "plt.xlabel('Actual Monthly Income (in PHP)')\n",
    "plt.ylabel('Predicted Monthly Income (in PHP)')\n",
    "\n",
    "plt.scatter(y_test, y_predict, color='purple')\n",
    "\n",
    "m, b = np.polyfit(y_test, y_predict, 1)\n",
    "plt.plot(y_test, m * y_test + b, color='tomato')"
   ]
  }
 ],
 "metadata": {
  "interpreter": {
   "hash": "e7370f93d1d0cde622a1f8e1c04877d8463912d04d973331ad4851f04de6915a"
  },
  "kernelspec": {
   "display_name": "Python 3.10.4 64-bit",
   "language": "python",
   "name": "python3"
  },
  "language_info": {
   "codemirror_mode": {
    "name": "ipython",
    "version": 3
   },
   "file_extension": ".py",
   "mimetype": "text/x-python",
   "name": "python",
   "nbconvert_exporter": "python",
   "pygments_lexer": "ipython3",
   "version": "3.10.4"
  },
  "orig_nbformat": 4
 },
 "nbformat": 4,
 "nbformat_minor": 2
}
