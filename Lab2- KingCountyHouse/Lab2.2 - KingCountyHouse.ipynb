{
 "cells": [
  {
   "cell_type": "markdown",
   "metadata": {},
   "source": [
    "# Laboratory 2 - King County House Prices: Linear Regression\n",
    "Submitted by: Anthony Aromin\n"
   ]
  },
  {
   "cell_type": "markdown",
   "metadata": {},
   "source": [
    "## Initial Setup"
   ]
  },
  {
   "cell_type": "code",
   "execution_count": 206,
   "metadata": {},
   "outputs": [],
   "source": [
    "# import necessary libraries\n",
    "import numpy as np\n",
    "import pandas as pd\n",
    "import matplotlib.pyplot as plt\n",
    "import seaborn as sns\n",
    "from sklearn.model_selection import train_test_split\n",
    "from sklearn.linear_model import LinearRegression\n",
    "%matplotlib inline"
   ]
  },
  {
   "cell_type": "code",
   "execution_count": 207,
   "metadata": {},
   "outputs": [],
   "source": [
    "# import the cleaned dataset\n",
    "df = pd.read_csv('house_data_cleaned.csv')"
   ]
  },
  {
   "cell_type": "code",
   "execution_count": 208,
   "metadata": {},
   "outputs": [
    {
     "data": {
      "text/html": [
       "<div>\n",
       "<style scoped>\n",
       "    .dataframe tbody tr th:only-of-type {\n",
       "        vertical-align: middle;\n",
       "    }\n",
       "\n",
       "    .dataframe tbody tr th {\n",
       "        vertical-align: top;\n",
       "    }\n",
       "\n",
       "    .dataframe thead th {\n",
       "        text-align: right;\n",
       "    }\n",
       "</style>\n",
       "<table border=\"1\" class=\"dataframe\">\n",
       "  <thead>\n",
       "    <tr style=\"text-align: right;\">\n",
       "      <th></th>\n",
       "      <th>Unnamed: 0</th>\n",
       "      <th>id</th>\n",
       "      <th>date</th>\n",
       "      <th>price</th>\n",
       "      <th>bedrooms</th>\n",
       "      <th>bathrooms</th>\n",
       "      <th>sqft_living</th>\n",
       "      <th>sqft_lot</th>\n",
       "      <th>floors</th>\n",
       "      <th>waterfront</th>\n",
       "      <th>...</th>\n",
       "      <th>grade</th>\n",
       "      <th>sqft_above</th>\n",
       "      <th>sqft_basement</th>\n",
       "      <th>yr_built</th>\n",
       "      <th>yr_renovated</th>\n",
       "      <th>zipcode</th>\n",
       "      <th>lat</th>\n",
       "      <th>long</th>\n",
       "      <th>sqft_living15</th>\n",
       "      <th>sqft_lot15</th>\n",
       "    </tr>\n",
       "  </thead>\n",
       "  <tbody>\n",
       "    <tr>\n",
       "      <th>0</th>\n",
       "      <td>2</td>\n",
       "      <td>7.504021e+09</td>\n",
       "      <td>20141204T000000</td>\n",
       "      <td>745000.0</td>\n",
       "      <td>3.0</td>\n",
       "      <td>2.50</td>\n",
       "      <td>2970.0</td>\n",
       "      <td>11985.0</td>\n",
       "      <td>1.0</td>\n",
       "      <td>False</td>\n",
       "      <td>...</td>\n",
       "      <td>9</td>\n",
       "      <td>1770.0</td>\n",
       "      <td>1200.0</td>\n",
       "      <td>1995</td>\n",
       "      <td>0</td>\n",
       "      <td>98074.0</td>\n",
       "      <td>47.6359</td>\n",
       "      <td>-122.052</td>\n",
       "      <td>2990</td>\n",
       "      <td>12049.0</td>\n",
       "    </tr>\n",
       "    <tr>\n",
       "      <th>1</th>\n",
       "      <td>3</td>\n",
       "      <td>8.024202e+09</td>\n",
       "      <td>20141117T000000</td>\n",
       "      <td>397000.0</td>\n",
       "      <td>2.0</td>\n",
       "      <td>1.00</td>\n",
       "      <td>1000.0</td>\n",
       "      <td>7664.0</td>\n",
       "      <td>1.0</td>\n",
       "      <td>False</td>\n",
       "      <td>...</td>\n",
       "      <td>7</td>\n",
       "      <td>1000.0</td>\n",
       "      <td>0.0</td>\n",
       "      <td>1939</td>\n",
       "      <td>0</td>\n",
       "      <td>98115.0</td>\n",
       "      <td>47.7001</td>\n",
       "      <td>-122.311</td>\n",
       "      <td>1570</td>\n",
       "      <td>6350.0</td>\n",
       "    </tr>\n",
       "    <tr>\n",
       "      <th>2</th>\n",
       "      <td>5</td>\n",
       "      <td>5.437401e+09</td>\n",
       "      <td>20141016T000000</td>\n",
       "      <td>625000.0</td>\n",
       "      <td>4.0</td>\n",
       "      <td>2.25</td>\n",
       "      <td>1920.0</td>\n",
       "      <td>8259.0</td>\n",
       "      <td>2.0</td>\n",
       "      <td>False</td>\n",
       "      <td>...</td>\n",
       "      <td>8</td>\n",
       "      <td>1920.0</td>\n",
       "      <td>0.0</td>\n",
       "      <td>1979</td>\n",
       "      <td>0</td>\n",
       "      <td>98027.0</td>\n",
       "      <td>47.5616</td>\n",
       "      <td>-122.088</td>\n",
       "      <td>2030</td>\n",
       "      <td>8910.0</td>\n",
       "    </tr>\n",
       "    <tr>\n",
       "      <th>3</th>\n",
       "      <td>7</td>\n",
       "      <td>3.832600e+09</td>\n",
       "      <td>20150504T000000</td>\n",
       "      <td>270000.0</td>\n",
       "      <td>3.0</td>\n",
       "      <td>2.25</td>\n",
       "      <td>1740.0</td>\n",
       "      <td>7345.0</td>\n",
       "      <td>1.0</td>\n",
       "      <td>False</td>\n",
       "      <td>...</td>\n",
       "      <td>7</td>\n",
       "      <td>1380.0</td>\n",
       "      <td>360.0</td>\n",
       "      <td>1973</td>\n",
       "      <td>0</td>\n",
       "      <td>98032.0</td>\n",
       "      <td>47.3663</td>\n",
       "      <td>-122.285</td>\n",
       "      <td>1770</td>\n",
       "      <td>8250.0</td>\n",
       "    </tr>\n",
       "    <tr>\n",
       "      <th>4</th>\n",
       "      <td>8</td>\n",
       "      <td>9.477001e+09</td>\n",
       "      <td>20140722T000000</td>\n",
       "      <td>360000.0</td>\n",
       "      <td>3.0</td>\n",
       "      <td>1.75</td>\n",
       "      <td>1300.0</td>\n",
       "      <td>7770.0</td>\n",
       "      <td>1.0</td>\n",
       "      <td>False</td>\n",
       "      <td>...</td>\n",
       "      <td>7</td>\n",
       "      <td>1300.0</td>\n",
       "      <td>0.0</td>\n",
       "      <td>1967</td>\n",
       "      <td>0</td>\n",
       "      <td>98034.0</td>\n",
       "      <td>47.7347</td>\n",
       "      <td>-122.192</td>\n",
       "      <td>1520</td>\n",
       "      <td>7600.0</td>\n",
       "    </tr>\n",
       "  </tbody>\n",
       "</table>\n",
       "<p>5 rows × 22 columns</p>\n",
       "</div>"
      ],
      "text/plain": [
       "   Unnamed: 0            id             date     price  bedrooms  bathrooms  \\\n",
       "0           2  7.504021e+09  20141204T000000  745000.0       3.0       2.50   \n",
       "1           3  8.024202e+09  20141117T000000  397000.0       2.0       1.00   \n",
       "2           5  5.437401e+09  20141016T000000  625000.0       4.0       2.25   \n",
       "3           7  3.832600e+09  20150504T000000  270000.0       3.0       2.25   \n",
       "4           8  9.477001e+09  20140722T000000  360000.0       3.0       1.75   \n",
       "\n",
       "   sqft_living  sqft_lot  floors  waterfront  ...  grade  sqft_above  \\\n",
       "0       2970.0   11985.0     1.0       False  ...      9      1770.0   \n",
       "1       1000.0    7664.0     1.0       False  ...      7      1000.0   \n",
       "2       1920.0    8259.0     2.0       False  ...      8      1920.0   \n",
       "3       1740.0    7345.0     1.0       False  ...      7      1380.0   \n",
       "4       1300.0    7770.0     1.0       False  ...      7      1300.0   \n",
       "\n",
       "   sqft_basement  yr_built  yr_renovated  zipcode      lat     long  \\\n",
       "0         1200.0      1995             0  98074.0  47.6359 -122.052   \n",
       "1            0.0      1939             0  98115.0  47.7001 -122.311   \n",
       "2            0.0      1979             0  98027.0  47.5616 -122.088   \n",
       "3          360.0      1973             0  98032.0  47.3663 -122.285   \n",
       "4            0.0      1967             0  98034.0  47.7347 -122.192   \n",
       "\n",
       "   sqft_living15  sqft_lot15  \n",
       "0           2990     12049.0  \n",
       "1           1570      6350.0  \n",
       "2           2030      8910.0  \n",
       "3           1770      8250.0  \n",
       "4           1520      7600.0  \n",
       "\n",
       "[5 rows x 22 columns]"
      ]
     },
     "execution_count": 208,
     "metadata": {},
     "output_type": "execute_result"
    }
   ],
   "source": [
    "# just checking cuz I forgor 💀\n",
    "df.head(5)"
   ]
  },
  {
   "cell_type": "code",
   "execution_count": 209,
   "metadata": {},
   "outputs": [
    {
     "data": {
      "text/html": [
       "<div>\n",
       "<style scoped>\n",
       "    .dataframe tbody tr th:only-of-type {\n",
       "        vertical-align: middle;\n",
       "    }\n",
       "\n",
       "    .dataframe tbody tr th {\n",
       "        vertical-align: top;\n",
       "    }\n",
       "\n",
       "    .dataframe thead th {\n",
       "        text-align: right;\n",
       "    }\n",
       "</style>\n",
       "<table border=\"1\" class=\"dataframe\">\n",
       "  <thead>\n",
       "    <tr style=\"text-align: right;\">\n",
       "      <th></th>\n",
       "      <th>price</th>\n",
       "      <th>bedrooms</th>\n",
       "      <th>bathrooms</th>\n",
       "      <th>sqft_living</th>\n",
       "      <th>sqft_lot</th>\n",
       "      <th>floors</th>\n",
       "      <th>waterfront</th>\n",
       "      <th>view</th>\n",
       "      <th>condition</th>\n",
       "      <th>grade</th>\n",
       "      <th>sqft_above</th>\n",
       "      <th>sqft_basement</th>\n",
       "      <th>sqft_living15</th>\n",
       "      <th>sqft_lot15</th>\n",
       "    </tr>\n",
       "  </thead>\n",
       "  <tbody>\n",
       "    <tr>\n",
       "      <th>0</th>\n",
       "      <td>745000.0</td>\n",
       "      <td>3.0</td>\n",
       "      <td>2.50</td>\n",
       "      <td>2970.0</td>\n",
       "      <td>11985.0</td>\n",
       "      <td>1.0</td>\n",
       "      <td>False</td>\n",
       "      <td>0</td>\n",
       "      <td>3</td>\n",
       "      <td>9</td>\n",
       "      <td>1770.0</td>\n",
       "      <td>1200.0</td>\n",
       "      <td>2990</td>\n",
       "      <td>12049.0</td>\n",
       "    </tr>\n",
       "    <tr>\n",
       "      <th>1</th>\n",
       "      <td>397000.0</td>\n",
       "      <td>2.0</td>\n",
       "      <td>1.00</td>\n",
       "      <td>1000.0</td>\n",
       "      <td>7664.0</td>\n",
       "      <td>1.0</td>\n",
       "      <td>False</td>\n",
       "      <td>2</td>\n",
       "      <td>3</td>\n",
       "      <td>7</td>\n",
       "      <td>1000.0</td>\n",
       "      <td>0.0</td>\n",
       "      <td>1570</td>\n",
       "      <td>6350.0</td>\n",
       "    </tr>\n",
       "    <tr>\n",
       "      <th>2</th>\n",
       "      <td>625000.0</td>\n",
       "      <td>4.0</td>\n",
       "      <td>2.25</td>\n",
       "      <td>1920.0</td>\n",
       "      <td>8259.0</td>\n",
       "      <td>2.0</td>\n",
       "      <td>False</td>\n",
       "      <td>0</td>\n",
       "      <td>4</td>\n",
       "      <td>8</td>\n",
       "      <td>1920.0</td>\n",
       "      <td>0.0</td>\n",
       "      <td>2030</td>\n",
       "      <td>8910.0</td>\n",
       "    </tr>\n",
       "    <tr>\n",
       "      <th>3</th>\n",
       "      <td>270000.0</td>\n",
       "      <td>3.0</td>\n",
       "      <td>2.25</td>\n",
       "      <td>1740.0</td>\n",
       "      <td>7345.0</td>\n",
       "      <td>1.0</td>\n",
       "      <td>False</td>\n",
       "      <td>0</td>\n",
       "      <td>3</td>\n",
       "      <td>7</td>\n",
       "      <td>1380.0</td>\n",
       "      <td>360.0</td>\n",
       "      <td>1770</td>\n",
       "      <td>8250.0</td>\n",
       "    </tr>\n",
       "    <tr>\n",
       "      <th>4</th>\n",
       "      <td>360000.0</td>\n",
       "      <td>3.0</td>\n",
       "      <td>1.75</td>\n",
       "      <td>1300.0</td>\n",
       "      <td>7770.0</td>\n",
       "      <td>1.0</td>\n",
       "      <td>False</td>\n",
       "      <td>0</td>\n",
       "      <td>3</td>\n",
       "      <td>7</td>\n",
       "      <td>1300.0</td>\n",
       "      <td>0.0</td>\n",
       "      <td>1520</td>\n",
       "      <td>7600.0</td>\n",
       "    </tr>\n",
       "  </tbody>\n",
       "</table>\n",
       "</div>"
      ],
      "text/plain": [
       "      price  bedrooms  bathrooms  sqft_living  sqft_lot  floors  waterfront  \\\n",
       "0  745000.0       3.0       2.50       2970.0   11985.0     1.0       False   \n",
       "1  397000.0       2.0       1.00       1000.0    7664.0     1.0       False   \n",
       "2  625000.0       4.0       2.25       1920.0    8259.0     2.0       False   \n",
       "3  270000.0       3.0       2.25       1740.0    7345.0     1.0       False   \n",
       "4  360000.0       3.0       1.75       1300.0    7770.0     1.0       False   \n",
       "\n",
       "   view  condition  grade  sqft_above  sqft_basement  sqft_living15  \\\n",
       "0     0          3      9      1770.0         1200.0           2990   \n",
       "1     2          3      7      1000.0            0.0           1570   \n",
       "2     0          4      8      1920.0            0.0           2030   \n",
       "3     0          3      7      1380.0          360.0           1770   \n",
       "4     0          3      7      1300.0            0.0           1520   \n",
       "\n",
       "   sqft_lot15  \n",
       "0     12049.0  \n",
       "1      6350.0  \n",
       "2      8910.0  \n",
       "3      8250.0  \n",
       "4      7600.0  "
      ]
     },
     "execution_count": 209,
     "metadata": {},
     "output_type": "execute_result"
    }
   ],
   "source": [
    "# choosing only the necessary data\n",
    "df.drop([\n",
    "    'Unnamed: 0',\n",
    "    'id',\n",
    "    'date',\n",
    "    'yr_built',\n",
    "    'yr_renovated',\n",
    "    'zipcode',\n",
    "    'lat',\n",
    "    'long'\n",
    "], axis=1, inplace=True)\n",
    "df.head(5)"
   ]
  },
  {
   "cell_type": "code",
   "execution_count": 210,
   "metadata": {},
   "outputs": [],
   "source": [
    "# specifying data (x) and target (y)\n",
    "x = df.iloc[:, 1:]\n",
    "y = df['price']"
   ]
  },
  {
   "cell_type": "markdown",
   "metadata": {},
   "source": [
    "## Training"
   ]
  },
  {
   "cell_type": "code",
   "execution_count": 211,
   "metadata": {},
   "outputs": [],
   "source": [
    "# split the data for training\n",
    "# 80% training, 20% testing\n",
    "x_train, x_test, y_train, y_test = train_test_split(x, y, test_size=0.20)"
   ]
  },
  {
   "cell_type": "code",
   "execution_count": 212,
   "metadata": {},
   "outputs": [
    {
     "data": {
      "text/plain": [
       "LinearRegression()"
      ]
     },
     "execution_count": 212,
     "metadata": {},
     "output_type": "execute_result"
    }
   ],
   "source": [
    "# create regression model\n",
    "model = LinearRegression()\n",
    "model.fit(x_train, y_train)"
   ]
  },
  {
   "cell_type": "markdown",
   "metadata": {},
   "source": [
    "## Testing"
   ]
  },
  {
   "cell_type": "code",
   "execution_count": 213,
   "metadata": {},
   "outputs": [],
   "source": [
    "# predict house prices using the model\n",
    "y_predict = model.predict(x_test)"
   ]
  },
  {
   "cell_type": "code",
   "execution_count": 214,
   "metadata": {},
   "outputs": [
    {
     "name": "stdout",
     "output_type": "stream",
     "text": [
      "Root Mean Squared Error: $233582.06\n"
     ]
    }
   ],
   "source": [
    "# check root mean square error\n",
    "rmse = np.sqrt(np.square(y_test - y_predict).mean())\n",
    "\n",
    "print('Root Mean Squared Error: ${:.2f}'.format(rmse))"
   ]
  },
  {
   "cell_type": "code",
   "execution_count": 215,
   "metadata": {},
   "outputs": [
    {
     "name": "stdout",
     "output_type": "stream",
     "text": [
      "Error: 6.43 %\n"
     ]
    }
   ],
   "source": [
    "# check normalized RMSE\n",
    "n_rmse = rmse / (y_test.max() - y_test.min())\n",
    "\n",
    "print('Error: {:.2f} %'.format(n_rmse * 100))"
   ]
  },
  {
   "cell_type": "code",
   "execution_count": 216,
   "metadata": {},
   "outputs": [
    {
     "data": {
      "text/plain": [
       "[Text(0.5, 0, 'Predicted Prices (in $)'),\n",
       " Text(0, 0.5, 'Actual Prices (in $)'),\n",
       " Text(0.5, 1.0, 'Comparison between Actual and Predicted Prices using Linear Regression')]"
      ]
     },
     "execution_count": 216,
     "metadata": {},
     "output_type": "execute_result"
    },
    {
     "data": {
      "image/png": "[encoded data removed]",
      "text/plain": [
       "<Figure size 504x504 with 1 Axes>"
      ]
     },
     "metadata": {},
     "output_type": "display_data"
    }
   ],
   "source": [
    "# visually compare predictions with actual values\n",
    "data = pd.DataFrame(zip(y_test, y_predict), columns=['actual prices', 'predicted prices'])\n",
    "\n",
    "sns.set(rc={'figure.figsize':(7, 7)})\n",
    "sns.scatterplot(\n",
    "    data=data,\n",
    "    x='predicted prices',\n",
    "    y='actual prices'\n",
    ").set(\n",
    "    xlabel='Predicted Prices (in $)',\n",
    "    ylabel='Actual Prices (in $)',\n",
    "    title='Comparison between Actual and Predicted Prices using Linear Regression'\n",
    ")"
   ]
  }
 ],
 "metadata": {
  "interpreter": {
   "hash": "e7370f93d1d0cde622a1f8e1c04877d8463912d04d973331ad4851f04de6915a"
  },
  "kernelspec": {
   "display_name": "Python 3.10.2 64-bit",
   "language": "python",
   "name": "python3"
  },
  "language_info": {
   "codemirror_mode": {
    "name": "ipython",
    "version": 3
   },
   "file_extension": ".py",
   "mimetype": "text/x-python",
   "name": "python",
   "nbconvert_exporter": "python",
   "pygments_lexer": "ipython3",
   "version": "3.10.2"
  },
  "orig_nbformat": 4
 },
 "nbformat": 4,
 "nbformat_minor": 2
}
